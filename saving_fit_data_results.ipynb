{
  "nbformat": 4,
  "nbformat_minor": 0,
  "metadata": {
    "colab": {
      "name": "saving_fit_data_results.ipynb",
      "provenance": [],
      "authorship_tag": "ABX9TyPq6NlD10fcgZcaKuvRD/bH",
      "include_colab_link": true
    },
    "kernelspec": {
      "name": "python3",
      "display_name": "Python 3"
    },
    "language_info": {
      "name": "python"
    }
  },
  "cells": [
    {
      "cell_type": "markdown",
      "metadata": {
        "id": "view-in-github",
        "colab_type": "text"
      },
      "source": [
        "<a href=\"https://colab.research.google.com/github/heidaralavi/Gas-Prj/blob/main/saving_fit_data_results.ipynb\" target=\"_parent\"><img src=\"https://colab.research.google.com/assets/colab-badge.svg\" alt=\"Open In Colab\"/></a>"
      ]
    },
    {
      "cell_type": "code",
      "execution_count": 10,
      "metadata": {
        "id": "CAdFlsM6QpSg"
      },
      "outputs": [],
      "source": [
        "import pandas as pd\n",
        "import numpy as np\n",
        "import matplotlib.pyplot as plt\n",
        "import seaborn as sns\n",
        "from sklearn.model_selection import train_test_split\n",
        "from sklearn.linear_model import LinearRegression\n",
        "from sklearn.ensemble import IsolationForest,RandomForestRegressor,GradientBoostingRegressor\n",
        "from sklearn.metrics import mean_absolute_error, r2_score, mean_squared_error\n",
        "from sklearn.preprocessing import scale , normalize, minmax_scale,RobustScaler,MinMaxScaler\n",
        "from sklearn.neural_network import MLPRegressor\n",
        "from sklearn.tree import DecisionTreeRegressor,plot_tree\n",
        "from sklearn.svm import SVR\n",
        "from sklearn.neighbors import KNeighborsRegressor\n",
        "from xgboost import XGBRegressor\n",
        "import xgboost as xgb\n",
        "import pickle"
      ]
    },
    {
      "cell_type": "code",
      "source": [
        "url = 'https://raw.githubusercontent.com/heidaralavi/Gas-Prj/main/total.csv'\n",
        "df=pd.read_csv(url)\n",
        "#df=pd.read_csv('input-data.csv')\n",
        "df.head()"
      ],
      "metadata": {
        "colab": {
          "base_uri": "https://localhost:8080/",
          "height": 288
        },
        "id": "r4-Th4sPRN8Y",
        "outputId": "b4b97715-dd09-410c-8428-eb65d8df7e1d"
      },
      "execution_count": 3,
      "outputs": [
        {
          "output_type": "execute_result",
          "data": {
            "text/html": [
              "\n",
              "  <div id=\"df-f36d77f6-ac4d-4496-89ab-3b3ba14ff05a\">\n",
              "    <div class=\"colab-df-container\">\n",
              "      <div>\n",
              "<style scoped>\n",
              "    .dataframe tbody tr th:only-of-type {\n",
              "        vertical-align: middle;\n",
              "    }\n",
              "\n",
              "    .dataframe tbody tr th {\n",
              "        vertical-align: top;\n",
              "    }\n",
              "\n",
              "    .dataframe thead th {\n",
              "        text-align: right;\n",
              "    }\n",
              "</style>\n",
              "<table border=\"1\" class=\"dataframe\">\n",
              "  <thead>\n",
              "    <tr style=\"text-align: right;\">\n",
              "      <th></th>\n",
              "      <th>Unnamed: 0</th>\n",
              "      <th>Moisture_600</th>\n",
              "      <th>Blaine_After_HPGR</th>\n",
              "      <th>Tfe_Before_Mixer</th>\n",
              "      <th>FeO_Before_Mixer</th>\n",
              "      <th>Online_hours</th>\n",
              "      <th>Grate_Feed(ton)</th>\n",
              "      <th>Grate_Speed(rpm)</th>\n",
              "      <th>Depth(mm)</th>\n",
              "      <th>EP1_Temp(deg)</th>\n",
              "      <th>EP2_Temp(deg)</th>\n",
              "      <th>Grate_Zoon3_Temp(deg)</th>\n",
              "      <th>Grate_Zoon4_Temp(deg)</th>\n",
              "      <th>Amb_Temp(deg)</th>\n",
              "      <th>KL1_Speed(rpm)</th>\n",
              "      <th>AN1_Speed(rpm)</th>\n",
              "      <th>730FN1_Damper</th>\n",
              "      <th>730FN1_Amp</th>\n",
              "      <th>AN1_Zoon3_Temp(deg)</th>\n",
              "      <th>Gas_Consumption(Nm3)</th>\n",
              "    </tr>\n",
              "  </thead>\n",
              "  <tbody>\n",
              "    <tr>\n",
              "      <th>0</th>\n",
              "      <td>0</td>\n",
              "      <td>9.068056</td>\n",
              "      <td>1944.333333</td>\n",
              "      <td>66.943333</td>\n",
              "      <td>21.596667</td>\n",
              "      <td>23.000000</td>\n",
              "      <td>12130.79</td>\n",
              "      <td>6.178099</td>\n",
              "      <td>129.977407</td>\n",
              "      <td>113.830519</td>\n",
              "      <td>96.924823</td>\n",
              "      <td>823.695961</td>\n",
              "      <td>947.918406</td>\n",
              "      <td>16.426996</td>\n",
              "      <td>1.720463</td>\n",
              "      <td>1.722029</td>\n",
              "      <td>33.128261</td>\n",
              "      <td>185.063912</td>\n",
              "      <td>141.628364</td>\n",
              "      <td>196364.0</td>\n",
              "    </tr>\n",
              "    <tr>\n",
              "      <th>1</th>\n",
              "      <td>1</td>\n",
              "      <td>8.997183</td>\n",
              "      <td>2014.000000</td>\n",
              "      <td>66.873333</td>\n",
              "      <td>21.420000</td>\n",
              "      <td>23.533333</td>\n",
              "      <td>12383.61</td>\n",
              "      <td>6.197217</td>\n",
              "      <td>130.267644</td>\n",
              "      <td>111.230717</td>\n",
              "      <td>97.945284</td>\n",
              "      <td>791.477252</td>\n",
              "      <td>928.687125</td>\n",
              "      <td>16.367289</td>\n",
              "      <td>1.720708</td>\n",
              "      <td>1.634924</td>\n",
              "      <td>32.501389</td>\n",
              "      <td>183.892294</td>\n",
              "      <td>145.570481</td>\n",
              "      <td>209304.0</td>\n",
              "    </tr>\n",
              "    <tr>\n",
              "      <th>2</th>\n",
              "      <td>2</td>\n",
              "      <td>8.795833</td>\n",
              "      <td>2036.909091</td>\n",
              "      <td>66.873333</td>\n",
              "      <td>21.246667</td>\n",
              "      <td>23.400000</td>\n",
              "      <td>12413.71</td>\n",
              "      <td>5.976046</td>\n",
              "      <td>133.678219</td>\n",
              "      <td>111.999794</td>\n",
              "      <td>99.243076</td>\n",
              "      <td>830.765571</td>\n",
              "      <td>939.656421</td>\n",
              "      <td>18.876778</td>\n",
              "      <td>1.720636</td>\n",
              "      <td>1.650556</td>\n",
              "      <td>31.961806</td>\n",
              "      <td>180.630365</td>\n",
              "      <td>173.127236</td>\n",
              "      <td>206200.0</td>\n",
              "    </tr>\n",
              "    <tr>\n",
              "      <th>3</th>\n",
              "      <td>3</td>\n",
              "      <td>8.850536</td>\n",
              "      <td>2028.555556</td>\n",
              "      <td>66.986667</td>\n",
              "      <td>21.990000</td>\n",
              "      <td>23.583333</td>\n",
              "      <td>12277.02</td>\n",
              "      <td>5.978728</td>\n",
              "      <td>129.616905</td>\n",
              "      <td>114.068555</td>\n",
              "      <td>102.256167</td>\n",
              "      <td>825.551090</td>\n",
              "      <td>924.538606</td>\n",
              "      <td>21.236601</td>\n",
              "      <td>1.720821</td>\n",
              "      <td>1.590273</td>\n",
              "      <td>31.493056</td>\n",
              "      <td>177.220492</td>\n",
              "      <td>179.281210</td>\n",
              "      <td>203772.0</td>\n",
              "    </tr>\n",
              "    <tr>\n",
              "      <th>4</th>\n",
              "      <td>4</td>\n",
              "      <td>9.006061</td>\n",
              "      <td>2034.181818</td>\n",
              "      <td>67.096667</td>\n",
              "      <td>21.846667</td>\n",
              "      <td>19.883333</td>\n",
              "      <td>9942.13</td>\n",
              "      <td>4.718885</td>\n",
              "      <td>138.999936</td>\n",
              "      <td>115.877855</td>\n",
              "      <td>100.122762</td>\n",
              "      <td>724.071424</td>\n",
              "      <td>910.241250</td>\n",
              "      <td>18.896511</td>\n",
              "      <td>1.708230</td>\n",
              "      <td>1.278280</td>\n",
              "      <td>26.135069</td>\n",
              "      <td>163.096300</td>\n",
              "      <td>129.430960</td>\n",
              "      <td>200120.0</td>\n",
              "    </tr>\n",
              "  </tbody>\n",
              "</table>\n",
              "</div>\n",
              "      <button class=\"colab-df-convert\" onclick=\"convertToInteractive('df-f36d77f6-ac4d-4496-89ab-3b3ba14ff05a')\"\n",
              "              title=\"Convert this dataframe to an interactive table.\"\n",
              "              style=\"display:none;\">\n",
              "        \n",
              "  <svg xmlns=\"http://www.w3.org/2000/svg\" height=\"24px\"viewBox=\"0 0 24 24\"\n",
              "       width=\"24px\">\n",
              "    <path d=\"M0 0h24v24H0V0z\" fill=\"none\"/>\n",
              "    <path d=\"M18.56 5.44l.94 2.06.94-2.06 2.06-.94-2.06-.94-.94-2.06-.94 2.06-2.06.94zm-11 1L8.5 8.5l.94-2.06 2.06-.94-2.06-.94L8.5 2.5l-.94 2.06-2.06.94zm10 10l.94 2.06.94-2.06 2.06-.94-2.06-.94-.94-2.06-.94 2.06-2.06.94z\"/><path d=\"M17.41 7.96l-1.37-1.37c-.4-.4-.92-.59-1.43-.59-.52 0-1.04.2-1.43.59L10.3 9.45l-7.72 7.72c-.78.78-.78 2.05 0 2.83L4 21.41c.39.39.9.59 1.41.59.51 0 1.02-.2 1.41-.59l7.78-7.78 2.81-2.81c.8-.78.8-2.07 0-2.86zM5.41 20L4 18.59l7.72-7.72 1.47 1.35L5.41 20z\"/>\n",
              "  </svg>\n",
              "      </button>\n",
              "      \n",
              "  <style>\n",
              "    .colab-df-container {\n",
              "      display:flex;\n",
              "      flex-wrap:wrap;\n",
              "      gap: 12px;\n",
              "    }\n",
              "\n",
              "    .colab-df-convert {\n",
              "      background-color: #E8F0FE;\n",
              "      border: none;\n",
              "      border-radius: 50%;\n",
              "      cursor: pointer;\n",
              "      display: none;\n",
              "      fill: #1967D2;\n",
              "      height: 32px;\n",
              "      padding: 0 0 0 0;\n",
              "      width: 32px;\n",
              "    }\n",
              "\n",
              "    .colab-df-convert:hover {\n",
              "      background-color: #E2EBFA;\n",
              "      box-shadow: 0px 1px 2px rgba(60, 64, 67, 0.3), 0px 1px 3px 1px rgba(60, 64, 67, 0.15);\n",
              "      fill: #174EA6;\n",
              "    }\n",
              "\n",
              "    [theme=dark] .colab-df-convert {\n",
              "      background-color: #3B4455;\n",
              "      fill: #D2E3FC;\n",
              "    }\n",
              "\n",
              "    [theme=dark] .colab-df-convert:hover {\n",
              "      background-color: #434B5C;\n",
              "      box-shadow: 0px 1px 3px 1px rgba(0, 0, 0, 0.15);\n",
              "      filter: drop-shadow(0px 1px 2px rgba(0, 0, 0, 0.3));\n",
              "      fill: #FFFFFF;\n",
              "    }\n",
              "  </style>\n",
              "\n",
              "      <script>\n",
              "        const buttonEl =\n",
              "          document.querySelector('#df-f36d77f6-ac4d-4496-89ab-3b3ba14ff05a button.colab-df-convert');\n",
              "        buttonEl.style.display =\n",
              "          google.colab.kernel.accessAllowed ? 'block' : 'none';\n",
              "\n",
              "        async function convertToInteractive(key) {\n",
              "          const element = document.querySelector('#df-f36d77f6-ac4d-4496-89ab-3b3ba14ff05a');\n",
              "          const dataTable =\n",
              "            await google.colab.kernel.invokeFunction('convertToInteractive',\n",
              "                                                     [key], {});\n",
              "          if (!dataTable) return;\n",
              "\n",
              "          const docLinkHtml = 'Like what you see? Visit the ' +\n",
              "            '<a target=\"_blank\" href=https://colab.research.google.com/notebooks/data_table.ipynb>data table notebook</a>'\n",
              "            + ' to learn more about interactive tables.';\n",
              "          element.innerHTML = '';\n",
              "          dataTable['output_type'] = 'display_data';\n",
              "          await google.colab.output.renderOutput(dataTable, element);\n",
              "          const docLink = document.createElement('div');\n",
              "          docLink.innerHTML = docLinkHtml;\n",
              "          element.appendChild(docLink);\n",
              "        }\n",
              "      </script>\n",
              "    </div>\n",
              "  </div>\n",
              "  "
            ],
            "text/plain": [
              "   Unnamed: 0  Moisture_600  ...  AN1_Zoon3_Temp(deg)  Gas_Consumption(Nm3)\n",
              "0           0      9.068056  ...           141.628364              196364.0\n",
              "1           1      8.997183  ...           145.570481              209304.0\n",
              "2           2      8.795833  ...           173.127236              206200.0\n",
              "3           3      8.850536  ...           179.281210              203772.0\n",
              "4           4      9.006061  ...           129.430960              200120.0\n",
              "\n",
              "[5 rows x 20 columns]"
            ]
          },
          "metadata": {},
          "execution_count": 3
        }
      ]
    },
    {
      "cell_type": "code",
      "source": [
        "df.drop(columns='Unnamed: 0',inplace=True)"
      ],
      "metadata": {
        "id": "lOaoz4onRQU2"
      },
      "execution_count": 4,
      "outputs": []
    },
    {
      "cell_type": "code",
      "source": [
        "col=df.columns\n",
        "data=df.values"
      ],
      "metadata": {
        "id": "J2ERMZ8WRoKO"
      },
      "execution_count": 5,
      "outputs": []
    },
    {
      "cell_type": "markdown",
      "source": [
        "Extreme Gradient Boosting Regressor"
      ],
      "metadata": {
        "id": "hB89wvbtSDR-"
      }
    },
    {
      "cell_type": "code",
      "source": [
        "# split into input and output elements\n",
        "X, y =data[:, :-1], data[:, -1]"
      ],
      "metadata": {
        "id": "hnT-_rgQSFh_"
      },
      "execution_count": 7,
      "outputs": []
    },
    {
      "cell_type": "code",
      "source": [
        "# split into train and test sets\n",
        "X_train, X_test, y_train, y_test = train_test_split(X, y, test_size=0.3, random_state=1)\n",
        "print(X_test.shape,X_train.shape)"
      ],
      "metadata": {
        "colab": {
          "base_uri": "https://localhost:8080/"
        },
        "id": "B0PrF45OSf5v",
        "outputId": "d13644a1-b6c5-4ff2-ef0b-7d06fb4150f3"
      },
      "execution_count": 8,
      "outputs": [
        {
          "output_type": "stream",
          "name": "stdout",
          "text": [
            "(251, 18) (585, 18)\n"
          ]
        }
      ]
    },
    {
      "cell_type": "code",
      "source": [
        "model = XGBRegressor(random_state = 123,n_jobs=-1)\n",
        "model.fit(X_train, y_train)"
      ],
      "metadata": {
        "colab": {
          "base_uri": "https://localhost:8080/"
        },
        "id": "1NAGXv6ZSrab",
        "outputId": "93ceff4d-3a5f-4c51-ec68-75674fd93541"
      },
      "execution_count": 9,
      "outputs": [
        {
          "output_type": "stream",
          "name": "stdout",
          "text": [
            "[17:46:11] WARNING: /workspace/src/objective/regression_obj.cu:152: reg:linear is now deprecated in favor of reg:squarederror.\n"
          ]
        },
        {
          "output_type": "execute_result",
          "data": {
            "text/plain": [
              "XGBRegressor(n_jobs=-1, random_state=123)"
            ]
          },
          "metadata": {},
          "execution_count": 9
        }
      ]
    },
    {
      "cell_type": "code",
      "source": [
        "filename = 'finalized_model.sav'\n",
        "pickle.dump(model, open(filename, 'wb'))"
      ],
      "metadata": {
        "id": "BGwo55TAS9fE"
      },
      "execution_count": 11,
      "outputs": []
    },
    {
      "cell_type": "code",
      "source": [
        "#Download to local drive\n",
        "from google.colab import files\n",
        "files.download('finalized_model.sav')"
      ],
      "metadata": {
        "colab": {
          "base_uri": "https://localhost:8080/",
          "height": 17
        },
        "id": "4Yg2EK7mTTJv",
        "outputId": "318d162e-42b6-4fb1-c80f-e5d32226bcf5"
      },
      "execution_count": 12,
      "outputs": [
        {
          "output_type": "display_data",
          "data": {
            "application/javascript": [
              "\n",
              "    async function download(id, filename, size) {\n",
              "      if (!google.colab.kernel.accessAllowed) {\n",
              "        return;\n",
              "      }\n",
              "      const div = document.createElement('div');\n",
              "      const label = document.createElement('label');\n",
              "      label.textContent = `Downloading \"${filename}\": `;\n",
              "      div.appendChild(label);\n",
              "      const progress = document.createElement('progress');\n",
              "      progress.max = size;\n",
              "      div.appendChild(progress);\n",
              "      document.body.appendChild(div);\n",
              "\n",
              "      const buffers = [];\n",
              "      let downloaded = 0;\n",
              "\n",
              "      const channel = await google.colab.kernel.comms.open(id);\n",
              "      // Send a message to notify the kernel that we're ready.\n",
              "      channel.send({})\n",
              "\n",
              "      for await (const message of channel.messages) {\n",
              "        // Send a message to notify the kernel that we're ready.\n",
              "        channel.send({})\n",
              "        if (message.buffers) {\n",
              "          for (const buffer of message.buffers) {\n",
              "            buffers.push(buffer);\n",
              "            downloaded += buffer.byteLength;\n",
              "            progress.value = downloaded;\n",
              "          }\n",
              "        }\n",
              "      }\n",
              "      const blob = new Blob(buffers, {type: 'application/binary'});\n",
              "      const a = document.createElement('a');\n",
              "      a.href = window.URL.createObjectURL(blob);\n",
              "      a.download = filename;\n",
              "      div.appendChild(a);\n",
              "      a.click();\n",
              "      div.remove();\n",
              "    }\n",
              "  "
            ],
            "text/plain": [
              "<IPython.core.display.Javascript object>"
            ]
          },
          "metadata": {}
        },
        {
          "output_type": "display_data",
          "data": {
            "application/javascript": [
              "download(\"download_98ccb366-7916-425f-bb1d-88a6cda9bce5\", \"finalized_model.sav\", 61912)"
            ],
            "text/plain": [
              "<IPython.core.display.Javascript object>"
            ]
          },
          "metadata": {}
        }
      ]
    },
    {
      "cell_type": "code",
      "source": [
        ""
      ],
      "metadata": {
        "id": "n9Cd6SeHTqz4"
      },
      "execution_count": null,
      "outputs": []
    }
  ]
}